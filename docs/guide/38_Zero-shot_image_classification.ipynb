{
 "cells": [
  {
   "cell_type": "markdown",
   "id": "5f97e127",
   "metadata": {},
   "source": [
    "# 零样本图像分类\n",
    "\n",
    "零样本图像分类是一种任务，涉及使用未显式训练过特定类别标注数据的模型对图像进行分类。\n",
    "\n",
    "在传统方式中，图像分类需要在一个特定的标注图像集上训练模型，该模型学习“映射”某些图像特征到标签。当需要使用这样的模型进行引入新标签的分类任务时，通常需要微调来“重新校准”模型。\n",
    "\n",
    "相比之下，零样本或开放词汇图像分类模型通常是多模态模型，它们在大量图像及其相关描述的数据集上进行了训练。这些模型学习了对齐的视觉-语言表示，可以用于许多下游任务，包括零样本图像分类。\n",
    "\n",
    "这是一种更灵活的图像分类方法，允许模型推广到新的和未见过的类别，而无需额外的训练数据，并且用户可以用自由形式的文本描述目标对象来查询图像。\n",
    "\n",
    "在本指南中，你将学习如何：\n",
    "\n",
    "- 创建一个零样本图像分类管道\n",
    "- 手动运行零样本图像分类推理\n",
    "\n",
    "在开始之前，请确保安装了所有必要的库：\n"
   ]
  },
  {
   "cell_type": "code",
   "execution_count": null,
   "id": "4fe6d8ac",
   "metadata": {
    "vscode": {
     "languageId": "shellscript"
    }
   },
   "outputs": [],
   "source": [
    "pip install -q \"transformers[torch]\" pillow"
   ]
  },
  {
   "cell_type": "markdown",
   "id": "415a6501",
   "metadata": {},
   "source": [
    "\n",
    "## 零样本图像分类管道\n",
    "\n",
    "尝试支持零样本图像分类的模型推理的最简单方法是使用相应的[pipeline()](/docs/transformers/v4.46.2/en/main_classes/pipelines#transformers.pipeline)。从[Hugging Face Hub](https://huggingface.co/models?pipeline_tag=zero-shot-image-classification&sort=downloads)上的检查点实例化一个管道：\n"
   ]
  },
  {
   "cell_type": "code",
   "execution_count": null,
   "id": "d3824785",
   "metadata": {},
   "outputs": [],
   "source": [
    "from transformers import pipeline\n",
    "\n",
    "checkpoint = \"openai/clip-vit-large-patch14\"\n",
    "detector = pipeline(model=checkpoint, task=\"zero-shot-image-classification\")"
   ]
  },
  {
   "cell_type": "markdown",
   "id": "6efe4b65",
   "metadata": {},
   "source": [
    "\n",
    "接下来，选择一幅你想要分类的图像。\n"
   ]
  },
  {
   "cell_type": "code",
   "execution_count": null,
   "id": "a5fb726a",
   "metadata": {},
   "outputs": [],
   "source": [
    "from PIL import Image\n",
    "import requests\n",
    "\n",
    "url = \"https://unsplash.com/photos/g8oS8-82DxI/download?ixid=MnwxMjA3fDB8MXx0b3BpY3x8SnBnNktpZGwtSGt8fHx8fDJ8fDE2NzgxMDYwODc&force=true&w=640\"\n",
    "image = Image.open(requests.get(url, stream=True).raw)\n",
    "\n",
    "image"
   ]
  },
  {
   "cell_type": "markdown",
   "id": "f4cd7a4c",
   "metadata": {},
   "source": [
    "\n",
    "![猫头鹰的照片](https://huggingface.co/datasets/huggingface/documentation-images/resolve/main/transformers/tasks/owl.jpg)\n",
    "\n",
    "将图像和候选对象标签传递给管道。这里我们直接传递图像；其他合适的选项包括本地路径的图像或图像 URL。候选标签可以是简单的单词，如本例所示，也可以是更详细的描述。\n"
   ]
  },
  {
   "cell_type": "code",
   "execution_count": null,
   "id": "00caf9c0",
   "metadata": {},
   "outputs": [],
   "source": [
    "predictions = detector(image, candidate_labels=[\"fox\", \"bear\", \"seagull\", \"owl\"])\n",
    "predictions"
   ]
  },
  {
   "cell_type": "markdown",
   "id": "7d25afa0",
   "metadata": {},
   "source": [
    "\n",
    "## 手动进行零样本图像分类\n",
    "\n",
    "现在你已经看到了如何使用零样本图像分类管道，让我们看看如何手动运行零样本图像分类。\n",
    "\n",
    "首先从[Hugging Face Hub](https://huggingface.co/models?pipeline_tag=zero-shot-image-classification&sort=downloads)上的检查点加载模型及相关处理器。这里我们将使用与前面相同的检查点：\n"
   ]
  },
  {
   "cell_type": "code",
   "execution_count": null,
   "id": "2497bdbb",
   "metadata": {},
   "outputs": [],
   "source": [
    "from transformers import AutoProcessor, AutoModelForZeroShotImageClassification\n",
    "\n",
    "model = AutoModelForZeroShotImageClassification.from_pretrained(checkpoint)\n",
    "processor = AutoProcessor.from_pretrained(checkpoint)"
   ]
  },
  {
   "cell_type": "markdown",
   "id": "74db4482",
   "metadata": {},
   "source": [
    "\n",
    "为了换换口味，我们使用一张不同的图像。\n"
   ]
  },
  {
   "cell_type": "code",
   "execution_count": null,
   "id": "662cbc4f",
   "metadata": {},
   "outputs": [],
   "source": [
    "from PIL import Image\n",
    "import requests\n",
    "\n",
    "url = \"https://unsplash.com/photos/xBRQfR2bqNI/download?ixid=MnwxMjA3fDB8MXxhbGx8fHx8fHx8fHwxNjc4Mzg4ODEx&force=true&w=640\"\n",
    "image = Image.open(requests.get(url, stream=True).raw)\n",
    "\n",
    "image"
   ]
  },
  {
   "cell_type": "markdown",
   "id": "a58fc29a",
   "metadata": {},
   "source": [
    "\n",
    "![汽车的照片](https://huggingface.co/datasets/huggingface/documentation-images/resolve/main/transformers/tasks/car.jpg)\n",
    "\n",
    "使用处理器准备输入数据。处理器结合了一个图像处理器，它通过调整大小和归一化来准备图像，以及一个分词器，它处理文本输入。\n"
   ]
  },
  {
   "cell_type": "code",
   "execution_count": null,
   "id": "99c52d56",
   "metadata": {},
   "outputs": [],
   "source": [
    "candidate_labels = [\"tree\", \"car\", \"bike\", \"cat\"]\n",
    "# 使用管道提示模板以获得相同的结果\n",
    "candidate_labels = [f'This is a photo of {label}.' for label in candidate_labels]\n",
    "inputs = processor(images=image, text=candidate_labels, return_tensors=\"pt\", padding=True)"
   ]
  },
  {
   "cell_type": "markdown",
   "id": "a1b3c65e",
   "metadata": {},
   "source": [
    "\n",
    "将输入数据传递给模型，并处理结果：\n"
   ]
  },
  {
   "cell_type": "code",
   "execution_count": null,
   "id": "d6518250",
   "metadata": {},
   "outputs": [],
   "source": [
    "import torch\n",
    "\n",
    "with torch.no_grad():\n",
    "    outputs = model(**inputs)\n",
    "\n",
    "logits = outputs.logits_per_image[0]\n",
    "probs = logits.softmax(dim=-1).numpy()\n",
    "scores = probs.tolist()\n",
    "\n",
    "result = [\n",
    "    {\"score\": score, \"label\": candidate_label}\n",
    "    for score, candidate_label in sorted(zip(probs, candidate_labels), key=lambda x: -x[0])\n",
    "]\n",
    "\n",
    "result"
   ]
  }
 ],
 "metadata": {
  "language_info": {
   "name": "python"
  }
 },
 "nbformat": 4,
 "nbformat_minor": 5
}
