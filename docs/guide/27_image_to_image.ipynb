{
 "cells": [
  {
   "cell_type": "markdown",
   "id": "be858384",
   "metadata": {},
   "source": [
    "# 以图生图（图像到图像任务）\n",
    "\n",
    "图像到图像任务是指应用程序接收一张图像并输出另一张图像的任务。这包括多种子任务，例如图像增强（超分辨率、低光增强、去雨等）、图像修复等。\n",
    "\n",
    "本指南将向您展示如何：\n",
    "\n",
    "- 使用图像到图像管道进行超分辨率任务，\n",
    "- 不使用管道运行图像到图像模型进行相同的任务。\n",
    "\n",
    "请注意，截至本指南发布时，`image-to-image` 管道仅支持超分辨率任务。\n",
    "\n",
    "让我们从安装必要的库开始。\n"
   ]
  },
  {
   "cell_type": "code",
   "execution_count": null,
   "id": "6d0e7863",
   "metadata": {
    "vscode": {
     "languageId": "shellscript"
    }
   },
   "outputs": [],
   "source": [
    "pip install transformers"
   ]
  },
  {
   "cell_type": "markdown",
   "id": "d7c69659",
   "metadata": {},
   "source": [
    "\n",
    "现在，我们可以使用 [Swin2SR 模型](https://huggingface.co/caidas/swin2SR-lightweight-x2-64) 初始化管道。然后，我们可以通过用图像调用管道来进行推理。目前，此管道仅支持 [Swin2SR 模型](https://huggingface.co/models?sort=trending&search=swin2sr)。\n"
   ]
  },
  {
   "cell_type": "code",
   "execution_count": null,
   "id": "3f6c0a3a",
   "metadata": {},
   "outputs": [],
   "source": [
    "from transformers import pipeline\n",
    "import torch\n",
    "\n",
    "device = torch.device('cuda' if torch.cuda.is_available() else 'cpu')\n",
    "pipe = pipeline(task=\"image-to-image\", model=\"caidas/swin2SR-lightweight-x2-64\", device=device)"
   ]
  },
  {
   "cell_type": "markdown",
   "id": "23bbb2be",
   "metadata": {},
   "source": [
    "\n",
    "接下来，让我们加载一张图像。\n"
   ]
  },
  {
   "cell_type": "code",
   "execution_count": null,
   "id": "58f47d52",
   "metadata": {},
   "outputs": [],
   "source": [
    "from PIL import Image\n",
    "import requests\n",
    "\n",
    "url = \"https://huggingface.co/datasets/huggingface/documentation-images/resolve/main/transformers/tasks/cat.jpg\"\n",
    "image = Image.open(requests.get(url, stream=True).raw)\n",
    "\n",
    "print(image.size)"
   ]
  },
  {
   "cell_type": "markdown",
   "id": "b5d9778b",
   "metadata": {},
   "source": [
    "\n",
    "![猫的照片](../../resources/images/cat.jpg)\n",
    "\n",
    "现在，我们可以使用管道进行推理。我们将得到猫图像的放大版本。\n"
   ]
  },
  {
   "cell_type": "code",
   "execution_count": null,
   "id": "0a93d01f",
   "metadata": {},
   "outputs": [],
   "source": [
    "upscaled = pipe(image)\n",
    "print(upscaled.size)"
   ]
  },
  {
   "cell_type": "markdown",
   "id": "ddde9229",
   "metadata": {},
   "source": [
    "\n",
    "如果您希望不使用管道自行进行推理，可以使用 `Swin2SRForImageSuperResolution` 和 `Swin2SRImageProcessor` 类。我们将使用相同的模型检查点进行此操作。让我们初始化模型和处理器。\n"
   ]
  },
  {
   "cell_type": "code",
   "execution_count": null,
   "id": "b3be79f3",
   "metadata": {},
   "outputs": [],
   "source": [
    "from transformers import Swin2SRForImageSuperResolution, Swin2SRImageProcessor\n",
    "\n",
    "model = Swin2SRForImageSuperResolution.from_pretrained(\"caidas/swin2SR-lightweight-x2-64\").to(device)\n",
    "processor = Swin2SRImageProcessor(\"caidas/swin2SR-lightweight-x2-64\")"
   ]
  },
  {
   "cell_type": "markdown",
   "id": "1116ef5a",
   "metadata": {},
   "source": [
    "\n",
    "`pipeline` 抽象化了我们需要自己做的预处理和后处理步骤，所以让我们预处理图像。我们将图像传递给处理器，然后将像素值移动到 GPU。\n"
   ]
  },
  {
   "cell_type": "code",
   "execution_count": null,
   "id": "dbcad123",
   "metadata": {},
   "outputs": [],
   "source": [
    "pixel_values = processor(image, return_tensors=\"pt\").pixel_values\n",
    "print(pixel_values.shape)\n",
    "\n",
    "pixel_values = pixel_values.to(device)"
   ]
  },
  {
   "cell_type": "markdown",
   "id": "6b0c3362",
   "metadata": {},
   "source": [
    "\n",
    "现在，我们可以通过将像素值传递给模型来进行图像推理。输出是一个 `ImageSuperResolutionOutput` 类型的对象，如下所示：\n"
   ]
  },
  {
   "cell_type": "code",
   "execution_count": null,
   "id": "878cc798",
   "metadata": {},
   "outputs": [],
   "source": [
    "import torch\n",
    "\n",
    "with torch.no_grad():\n",
    "  outputs = model(pixel_values)"
   ]
  },
  {
   "cell_type": "markdown",
   "id": "dc2f557e",
   "metadata": {},
   "source": [
    "\n",
    "我们需要获取 `reconstruction` 并进行后处理以便可视化。让我们看看它是什么样子的。\n"
   ]
  },
  {
   "cell_type": "code",
   "execution_count": null,
   "id": "25e9afaf",
   "metadata": {},
   "outputs": [],
   "source": [
    "outputs.reconstruction.data.shape\n",
    "# torch.Size([1, 3, 880, 1072])"
   ]
  },
  {
   "cell_type": "markdown",
   "id": "0bd739d4",
   "metadata": {},
   "source": [
    "\n",
    "我们需要压缩输出并去掉轴 0，裁剪值，然后将其转换为 numpy 浮点数。然后，我们将排列轴以获得形状 `[1072, 880]`，最后，将输出范围恢复到 `[0, 255]`。\n"
   ]
  },
  {
   "cell_type": "code",
   "execution_count": null,
   "id": "d2cbe1b0",
   "metadata": {},
   "outputs": [],
   "source": [
    "import numpy as np\n",
    "\n",
    "# 压缩，移至 CPU 并裁剪值\n",
    "output = outputs.reconstruction.data.squeeze().cpu().clamp_(0, 1).numpy()\n",
    "# 重新排列轴\n",
    "output = np.moveaxis(output, source=0, destination=-1)\n",
    "# 将值恢复到像素值范围\n",
    "output = (output * 255.0).round().astype(np.uint8)\n",
    "Image.fromarray(output)"
   ]
  },
  {
   "cell_type": "markdown",
   "id": "976f1940",
   "metadata": {},
   "source": [
    "\n",
    "![猫的放大照片](../../resources/images/cat_upscaled.png)\n"
   ]
  }
 ],
 "metadata": {
  "language_info": {
   "name": "python"
  }
 },
 "nbformat": 4,
 "nbformat_minor": 5
}
