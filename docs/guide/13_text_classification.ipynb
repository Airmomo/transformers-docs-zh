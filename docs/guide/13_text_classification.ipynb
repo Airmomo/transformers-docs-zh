{
 "cells": [
  {
   "cell_type": "markdown",
   "metadata": {},
   "source": [
    "# 文本分类\n",
    "\n",
    "文本分类是一项常见的NLP任务，它为文本分配标签或类别。一些最大的公司在生产中运行文本分类，用于广泛的实际应用。最流行的文本分类形式之一是情感分析，它为文本序列分配了一个标签，如积极、消极或中立。🙁🙂\n",
    "\n",
    "本指南将向您展示如何：\n",
    "1. FinetuneDistilBERT在IMDb数据集上确定电影评论是正面还是负面。\n",
    "2. 使用微调模型进行推理。"
   ]
  }
 ],
 "metadata": {
  "language_info": {
   "name": "python"
  }
 },
 "nbformat": 4,
 "nbformat_minor": 2
}
