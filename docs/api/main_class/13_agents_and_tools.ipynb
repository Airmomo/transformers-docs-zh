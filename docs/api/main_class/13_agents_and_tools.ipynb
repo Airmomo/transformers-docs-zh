{
 "cells": [
  {
   "cell_type": "markdown",
   "metadata": {},
   "source": [
    "# Agents & Tools\n",
    "\n",
    "```\n",
    "Transformers Agents是一个实验性的API，随时可能更改。代理返回的结果可能会随着API或底层模型的变化而变化。\n",
    "```\n",
    "要了解有关代理和工具的更多信息，请务必阅读[介绍性指南](../../tutorials/12_agents_and_tools.ipynb)。此页面主要介绍基础类的 API。"
   ]
  }
 ],
 "metadata": {
  "language_info": {
   "name": "python"
  }
 },
 "nbformat": 4,
 "nbformat_minor": 2
}
