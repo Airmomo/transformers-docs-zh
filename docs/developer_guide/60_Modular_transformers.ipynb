{
 "cells": [
  {
   "cell_type": "markdown",
   "id": "2e4c90ab",
   "metadata": {},
   "source": [
    "# 模块化 Transformers\n",
    "\n",
    "`transformers` 是一个有明确主张的框架；我们的理念在以下 [概念指南](./philosophy) 中定义。\n",
    "\n",
    "这一理念的核心体现在库的“单模型、单文件”方面。这个组件的缺点是限制了从文件到工具包中其他部分的继承和导入。\n",
    "\n",
    "因此，模型组件在许多文件中重复出现。`transformers` 中定义了与模型数量相同的关注层（attention layers），其中许多是相同的。不幸的后果是，当对特定部分的代码进行修复和更改时，独立实现往往会偏离。\n",
    "\n",
    "为了平衡这个问题，我们在库中引入了“复制”的概念。通过添加一个注释表明代码是从另一个地方复制的，我们可以通过持续集成（CI）和本地命令来确保复制的代码不会偏离。虽然复杂度较低，但这通常是相当繁琐的。\n",
    "\n",
    "最后，这增加了贡献模型的显著开销，这是我们希望消除的。这种方法通常需要模型贡献者添加建模代码（约1000行）、处理器（约500行）、测试、文档等。模型贡献的拉取请求（PR）很少少于3-5000行代码，其中大部分是样板代码。\n",
    "\n",
    "这提高了贡献的门槛，而通过模块化 Transformers（Modular Transformers），我们旨在降低这个门槛到一个更可接受的点。\n",
    "\n",
    "## 什么是模块化 Transformers？\n",
    "\n",
    "模块化Transformers在模型文件夹中引入了“模块化”文件的概念。这个模块化文件接受通常不在建模/处理文件中接受的代码，因为它允许从相邻模型导入以及类之间的继承。\n",
    "\n",
    "这个模块化文件定义了原本在各自模块中定义的模型、处理器和配置类。\n",
    "\n",
    "最后，这个功能引入了一个新的 `linter`，它会将模块化文件“展开”为“单模型、单文件”目录结构。每次运行脚本时，这些文件都会自动生成；减少了对模块化文件的贡献，因此只需要更改贡献模型与其他模型之间的差异。\n",
    "\n",
    "模型用户最终会导入并使用单文件接口，因此这里没有变化。这样做，我们希望结合两种方法的优点：简化贡献同时坚持我们的理念。\n",
    "\n",
    "因此，这是对 `# Copied from` 标记的替代，并且预计以前贡献的模型将在未来的几个月内迁移到新的模块化格式。\n",
    "\n",
    "### 细节\n",
    "\n",
    "“linter”会展开继承关系，并从模块化文件创建所有单文件。在这个过程中，linter 会尽量对 Python 用户透明地展平继承关系。目前，linter 只展平 **单层** 继承。\n",
    "\n",
    "例如：\n",
    "\n",
    "- 如果一个配置类继承了另一个类并添加或删除了一个参数，生成的文件将直接引用它（在添加的情况下）或完全删除它（在删除的情况下）。\n",
    "- 如果一个类继承了另一个类，例如 `class GemmaModel(LlamaModel):`，依赖关系将自动推断。所有子模块将从父类中自动推断。\n",
    "- 如果你在 `modular` 文件中定义了新函数并在类中使用它们，linter 将自动推断并复制这些函数。\n",
    "\n",
    "你应该能够在 `modular` 文件中编写一切（分词器、图像处理器、模型、配置），相应的文件将为你自动生成。\n",
    "\n",
    "### 强制执行\n",
    "\n",
    "\\[TODO\\] 我们引入了一项新的测试，确保生成的内容与 `modular_xxxx.py` 中的内容匹配。\n",
    "\n",
    "### 示例\n",
    "\n",
    "这里是一个快速示例，展示 BERT 和 RoBERTa。这两个模型密切相关：它们的建模实现仅在嵌入层有所不同。\n",
    "\n",
    "与其重新定义整个模型，以下是 `modular_roberta.py` 文件中建模和配置类的样子（为了示例，暂时忽略了分词器，因为它们非常不同）。\n"
   ]
  },
  {
   "cell_type": "code",
   "execution_count": null,
   "id": "6a46cce6",
   "metadata": {},
   "outputs": [],
   "source": [
    "from torch import nn\n",
    "from ..bert.configuration_bert import BertConfig\n",
    "from ..bert.modeling_bert import (\n",
    "    BertModel,\n",
    "    BertEmbeddings,\n",
    "    BertForMaskedLM\n",
    ")\n",
    "\n",
    "# RoBERTa 配置与 BERT 的配置相同\n",
    "class RobertaConfig(BertConfig):\n",
    "  model_type = 'roberta'\n",
    "\n",
    "# 重新定义嵌入层以突出填充 ID 的差异，并重新定义位置嵌入\n",
    "class RobertaEmbeddings(BertEmbeddings):\n",
    "    def __init__(self, config):\n",
    "        super().__init__(config)\n",
    "\n",
    "        self.padding_idx = config.pad_token_id\n",
    "        self.position_embeddings = nn.Embedding(\n",
    "            config.max_position_embeddings, config.hidden_size, padding_idx=self.padding_idx\n",
    "        )\n",
    "\n",
    "# RoBERTa 模型与 BERT 模型相同，除了嵌入层。\n",
    "# 我们在上面重新定义了嵌入层，因此这里不需要额外的工作\n",
    "class RobertaModel(BertModel):\n",
    "  def __init__(self, config):\n",
    "    super().__init__(config)\n",
    "    self.embeddings = RobertaEmbeddings(config)\n",
    "\n",
    "# 头部现在只需要将模型内部重新定义为正确的 `RobertaModel`\n",
    "class RobertaForMaskedLM(BertForMaskedLM):\n",
    "  def __init__(self, config):\n",
    "    super().__init__(config)\n",
    "    self.model = RobertaModel(config)"
   ]
  },
  {
   "cell_type": "markdown",
   "id": "68527d3a",
   "metadata": {},
   "source": [
    "\n",
    "如果你没有使用你定义的依赖关系，将会出现以下错误：\n"
   ]
  },
  {
   "cell_type": "raw",
   "id": "6cbd5f22",
   "metadata": {
    "vscode": {
     "languageId": "raw"
    }
   },
   "source": [
    "ValueError: 你在 `modular_roberta.py` 中定义了 `RobertaEmbeddings`，它应该在定义 `BertModel` 时使用，因为它是其直接依赖之一。请确保在 `__init__` 函数中使用它。"
   ]
  },
  {
   "cell_type": "markdown",
   "id": "a5aafbb3",
   "metadata": {},
   "source": [
    "\n",
    "此外，你可以在这里找到更多示例：\n",
    "\n",
    "## 它不是什么\n",
    "\n",
    "它并不是建模代码的替代品（至少目前还不是），如果您的模型没有基于任何已存在的东西，您可以像往常一样添加一个 `modeling` 文件。\n",
    "\n",
    "## 高级用法\n",
    "\n",
    "### 删除属性和函数\n",
    "\n",
    "要删除模块化模型中未使用的属性，并且不希望在展开的建模文件中看到这些属性：\n",
    "\n",
    "### Example 1: GemmaModel 类定义 (LlamaModel)\n"
   ]
  },
  {
   "cell_type": "code",
   "execution_count": null,
   "id": "741cc64d",
   "metadata": {},
   "outputs": [],
   "source": [
    "class GemmaModel(LlamaModel):\n",
    "    def __init__(self, config):\n",
    "        super().__init__(config)\n",
    "        del self.embed_tokens"
   ]
  },
  {
   "cell_type": "markdown",
   "id": "59914f5a",
   "metadata": {},
   "source": [
    "\n",
    "### Example 2: GemmaModel 类定义 (PreTrainedModel)\n"
   ]
  },
  {
   "cell_type": "code",
   "execution_count": null,
   "id": "d5a84e45",
   "metadata": {},
   "outputs": [],
   "source": [
    "class GemmaModel(PreTrainedModel):\n",
    "    def __init__(self, config):\n",
    "        super().__init__(config)\n",
    "        self.padding_idx = config.pad_token_id\n",
    "        self.vocab_size = config.vocab_size\n",
    "\n",
    "        self.layers = nn.ModuleList(\n",
    "            [LlamaDecoderLayer(config, layer_idx) for layer_idx in range(config.num_hidden_layers)]\n",
    "        )\n",
    "        self.norm = LlamaRMSNorm(config.hidden_size, eps=config.rms_norm_eps)\n",
    "        self.rotary_emb = LlamaRotaryEmbedding(config=config)\n",
    "        self.gradient_checkpointing = False\n",
    "\n",
    "        # 初始化权重并应用最终处理\n",
    "        self.post_init()"
   ]
  },
  {
   "cell_type": "markdown",
   "id": "f1a46305",
   "metadata": {},
   "source": [
    "\n",
    "如果你检查原始的 `LlamaModel`，它有一个 `embed_tokens` 属性，这里将会被删除。\n",
    "\n",
    "删除函数也很类似，只需将其写成包含 `raise ValueError(\"\")` 来模拟在 Python 中删除父类函数的行为。\n"
   ]
  },
  {
   "cell_type": "code",
   "execution_count": null,
   "id": "8e93ad2f",
   "metadata": {},
   "outputs": [],
   "source": [
    "class GemmaTokenizer(LlamaTokenizer):\n",
    "    # ...\n",
    "\n",
    "    def get_spm_processor(self):\n",
    "        raise AttributeError(\"Gemma 不需要此功能\")\n",
    "\n",
    "    def unk_token_length(self):\n",
    "        raise AttributeError(\"Gemma 不需要此功能\")"
   ]
  },
  {
   "cell_type": "markdown",
   "id": "3980e2a7",
   "metadata": {},
   "source": [
    "\n",
    "### 定义新函数\n",
    "\n",
    "如果你在 `modular` 文件中定义了一个新函数并在类中使用它，例如：\n"
   ]
  },
  {
   "cell_type": "code",
   "execution_count": null,
   "id": "2e41d0c3",
   "metadata": {},
   "outputs": [],
   "source": [
    "def my_new_function(*args, **kwargs):\n",
    "  # 在这里做某事\n",
    "  pass\n",
    "\n",
    "class GemmaModel(LlamaModel):\n",
    "    def forward(*args, **kwargs):\n",
    "      # 调用函数\n",
    "      example = my_new_function(*args, **kwargs)\n",
    "      # 继续操作"
   ]
  },
  {
   "cell_type": "markdown",
   "id": "d2e6ebda",
   "metadata": {},
   "source": [
    "\n",
    "`my_new_function` 函数（及其递归调用的任何其他新函数）将自动复制到使用它的文件中。\n",
    "\n",
    "### 调用 `super()`\n",
    "\n",
    "我们最近推出了一些功能，允许你从 Part 1 更新到 Part 2 的调用方式：\n",
    "\n",
    "### Part 1: GemmaTokenizer 类定义\n"
   ]
  },
  {
   "cell_type": "code",
   "execution_count": null,
   "id": "0f321531",
   "metadata": {},
   "outputs": [],
   "source": [
    "class GemmaTokenizer(LlamaTokenizer, PretrainedTokenizerFast):\n",
    "    def __init__(self, eos_token=\"</s>\"):\n",
    "        eos_token = AddedToken(eos_token)\n",
    "        PretrainedTokenizerFast.__init__(self, eos_token)"
   ]
  },
  {
   "cell_type": "markdown",
   "id": "07ccadca",
   "metadata": {},
   "source": [
    "\n",
    "### Part 2: GemmaModel 类定义\n"
   ]
  },
  {
   "cell_type": "code",
   "execution_count": null,
   "id": "8efe360e",
   "metadata": {},
   "outputs": [],
   "source": [
    "class GemmaModel(nn.Module):\n",
    "    def __init__(self):\n",
    "        eos_token = AddedToken(eos_token)\n",
    "        super().__init__(eos_token)"
   ]
  },
  {
   "cell_type": "markdown",
   "id": "479053e6",
   "metadata": {},
   "source": [
    "\n",
    "这在你 **不想** 展开对 `super()` 的调用，并且想区分你在调用哪个父类的初始化方法时非常有用！\n",
    "\n",
    "### 特殊命名\n",
    "\n",
    "我们现在还支持特殊情况，例如：\n"
   ]
  },
  {
   "cell_type": "code",
   "execution_count": null,
   "id": "6b1e5396",
   "metadata": {},
   "outputs": [],
   "source": [
    "class GemmaVisionModel(CLIPModel):                                 \n",
    "    pass"
   ]
  },
  {
   "cell_type": "markdown",
   "id": "066946b7",
   "metadata": {},
   "source": [
    "\n",
    "这里你的类名 `GemmaVision` 与模块化的 `Gemma` 不同。这对于复合模型非常有用。"
   ]
  }
 ],
 "metadata": {
  "language_info": {
   "name": "python"
  }
 },
 "nbformat": 4,
 "nbformat_minor": 5
}
