{
 "cells": [
  {
   "cell_type": "markdown",
   "metadata": {},
   "source": [
    "# 分享模型\n",
    "\n",
    "在 Hugging Face，我们相信公开分享知识和资源，能实现人工智能的普及化，让每个人都能受益。我们鼓励你将你的模型与社区分享，以帮助他人节省时间和精力。\n",
    "\n",
    "要与社区共享模型，你需要在 huggingface.co 上拥有一个帐户。你还可以加入现有的组织或创建一个新的组织。\n",
    "\n",
    "在本教程中，你将学习两种在 [Model Hub](https://huggingface.co/models) 上共享训练好的或微调的模型的方法：\n",
    "\n",
    "- 通过编程将文件推送到 Hub。\n",
    "- 使用 Web 界面将文件拖放到 Hub。"
   ]
  },
  {
   "cell_type": "markdown",
   "metadata": {},
   "source": [
    "## 仓库功能\n",
    "\n",
    "Model Hub 上的每个仓库都像是一个典型的GitHub仓库。我们的仓库提供版本控制、提交历史记录以及可视化差异的能力。\n",
    "\n",
    "`Model Hub`的内置版本控制基于`git`和`git-lfs`。换句话说，你可以将一个模型视为一个仓库，从而实现更好的访问控制和可扩展性。版本控制允许使用修订方法来固定特定版本的模型，可以使用提交哈希值、标签或分支来标记。\n",
    "\n",
    "因此，你可以通过revision参数加载特定的模型版本："
   ]
  },
  {
   "cell_type": "code",
   "execution_count": null,
   "metadata": {},
   "outputs": [],
   "source": [
    "model = AutoModel.from_pretrained(\n",
    "    \"julien-c/EsperBERTo-small\", revision=\"v2.0.1\"  # tag name, or branch name, or commit hash\n",
    ")"
   ]
  },
  {
   "cell_type": "markdown",
   "metadata": {},
   "source": [
    "文件也可以轻松地在仓库中编辑，你可以查看提交历史记录以及差异：\n",
    "\n",
    "![vis_diff](../../resources/show/vis_diff.png)"
   ]
  },
  {
   "cell_type": "markdown",
   "metadata": {},
   "source": [
    "## 设置"
   ]
  },
  {
   "cell_type": "markdown",
   "metadata": {},
   "source": [
    "在将模型共享到Hub之前，你需要拥有Hugging Face的凭证。如果你有访问终端的权限，请在安装🤗 Transformers的虚拟环境中运行以下命令。这将在你的Hugging Face缓存文件夹（默认为`~/.cache/`）中存储你的`access token`："
   ]
  },
  {
   "cell_type": "code",
   "execution_count": null,
   "metadata": {
    "vscode": {
     "languageId": "shellscript"
    }
   },
   "outputs": [],
   "source": [
    "huggingface-cli login"
   ]
  },
  {
   "cell_type": "markdown",
   "metadata": {},
   "source": [
    "如果你正在使用像`Jupyter`或`Colaboratory`这样的 notebook，请确保你已安装了[huggingface_hub](https://huggingface.co/docs/hub/models-adding-libraries)库。该库允许你以编程方式与Hub进行交互。"
   ]
  },
  {
   "cell_type": "code",
   "execution_count": null,
   "metadata": {
    "vscode": {
     "languageId": "shellscript"
    }
   },
   "outputs": [],
   "source": [
    "pip install huggingface_hub"
   ]
  },
  {
   "cell_type": "markdown",
   "metadata": {},
   "source": [
    "然后使用notebook_login登录到Hub，并按照这里的[链接](https://huggingface.co/settings/tokens)生成一个token进行登录："
   ]
  },
  {
   "cell_type": "code",
   "execution_count": null,
   "metadata": {},
   "outputs": [],
   "source": [
    "from huggingface_hub import notebook_login\n",
    "\n",
    "notebook_login()"
   ]
  },
  {
   "cell_type": "markdown",
   "metadata": {},
   "source": [
    "## 转换模型适用于所有框架\n",
    "\n",
    "为确保你的模型可以被使用不同框架的人使用，我们建议你将PyTorch和TensorFlow checkpoints都转换并上传。如果你跳过此步骤，用户仍然可以从其他框架加载你的模型，但速度会变慢，因为🤗 Transformers需要实时转换checkpoints。\n",
    "\n",
    "为另一个框架转换checkpoints很容易。确保你已安装PyTorch和TensorFlow（请参阅此处的安装说明），然后在其他框架中找到适合你任务的特定模型。"
   ]
  },
  {
   "cell_type": "markdown",
   "metadata": {},
   "source": [
    "### PyTorch\n",
    "\n",
    "指定`from_tf=True`将 checkpoint 从 TensorFlow 转换为 PyTorch。"
   ]
  },
  {
   "cell_type": "code",
   "execution_count": null,
   "metadata": {},
   "outputs": [],
   "source": [
    "pt_model = DistilBertForSequenceClassification.from_pretrained(\"path/to/awesome-name-you-picked\", from_tf=True)\n",
    "pt_model.save_pretrained(\"path/to/awesome-name-you-picked\")"
   ]
  },
  {
   "cell_type": "markdown",
   "metadata": {},
   "source": [
    "### TensorFlow\n",
    "\n",
    "指定`from_pt=True`将 checkpoint 从 PyTorch 转换为 TensorFlow 。"
   ]
  },
  {
   "cell_type": "code",
   "execution_count": null,
   "metadata": {},
   "outputs": [],
   "source": [
    "tf_model = TFDistilBertForSequenceClassification.from_pretrained(\"path/to/awesome-name-you-picked\", from_pt=True)"
   ]
  },
  {
   "cell_type": "markdown",
   "metadata": {},
   "source": [
    "然后，你可以使用新的 checkpoint 保存你的新 TensorFlow 模型："
   ]
  },
  {
   "cell_type": "code",
   "execution_count": null,
   "metadata": {},
   "outputs": [],
   "source": [
    "tf_model.save_pretrained(\"path/to/awesome-name-you-picked\")"
   ]
  },
  {
   "cell_type": "markdown",
   "metadata": {},
   "source": [
    "### JAX\n",
    "\n",
    "如果模型在Flax中可用，你还可以将 PyTorch checkpoint 转换为 Flax ："
   ]
  },
  {
   "cell_type": "code",
   "execution_count": null,
   "metadata": {},
   "outputs": [],
   "source": [
    "flax_model = FlaxDistilBertForSequenceClassification.from_pretrained(\n",
    "    \"path/to/awesome-name-you-picked\", from_pt=True\n",
    ")"
   ]
  },
  {
   "cell_type": "markdown",
   "metadata": {},
   "source": [
    "## 在训练过程中推送模型"
   ]
  },
  {
   "cell_type": "markdown",
   "metadata": {},
   "source": [
    "### PyTorch\n",
    "\n",
    "将模型分享到Hub就像添加一个额外的参数或回调函数一样简单。请记住，在[微调教程](../tutorials/5_fine_tune_pretrained_model.ipynb)中，`TrainingArguments`类是你指定超参数和附加训练选项的地方。其中一项训练选项包括直接将模型推送到`Hub`的能力。在你的`TrainingArguments`中设置`push_to_hub=True`："
   ]
  },
  {
   "cell_type": "code",
   "execution_count": null,
   "metadata": {},
   "outputs": [],
   "source": [
    "training_args = TrainingArguments(output_dir=\"my-awesome-model\", push_to_hub=True)"
   ]
  },
  {
   "cell_type": "markdown",
   "metadata": {},
   "source": [
    "像往常一样将你的训练参数传递给`Trainer`："
   ]
  },
  {
   "cell_type": "code",
   "execution_count": null,
   "metadata": {},
   "outputs": [],
   "source": [
    "trainer = Trainer(\n",
    "    model=model,\n",
    "    args=training_args,\n",
    "    train_dataset=small_train_dataset,\n",
    "    eval_dataset=small_eval_dataset,\n",
    "    compute_metrics=compute_metrics,\n",
    ")"
   ]
  },
  {
   "cell_type": "markdown",
   "metadata": {},
   "source": [
    "在你微调完模型后，在`Trainer`上调用`push_to_hub()`将训练好的模型推送到Hub。🤗 Transformers 甚至会自动将训练超参数、训练结果和框架版本添加到你的模型名片中！"
   ]
  },
  {
   "cell_type": "code",
   "execution_count": null,
   "metadata": {},
   "outputs": [],
   "source": [
    "trainer.push_to_hub()"
   ]
  },
  {
   "cell_type": "markdown",
   "metadata": {},
   "source": [
    "### TensorFlow\n",
    "\n",
    "使用[PushToHubCallback](https://huggingface.co/docs/transformers/v4.44.2/zh/main_classes/keras_callbacks#transformers.PushToHubCallback)将模型分享到 Hub。在[PushToHubCallback](https://huggingface.co/docs/transformers/v4.44.2/zh/main_classes/keras_callbacks#transformers.PushToHubCallback)函数中，添加以下内容：\n",
    "\n",
    "- 一个用于存储模型的输出目录。\n",
    "- 一个tokenizer。\n",
    "- `hub_model_id`，即你的Hub用户名和模型名称。"
   ]
  },
  {
   "cell_type": "code",
   "execution_count": null,
   "metadata": {},
   "outputs": [],
   "source": [
    "from transformers import PushToHubCallback\n",
    "\n",
    "push_to_hub_callback = PushToHubCallback(\n",
    "    output_dir=\"./your_model_save_path\", tokenizer=tokenizer, hub_model_id=\"your-username/my-awesome-model\"\n",
    ")"
   ]
  },
  {
   "cell_type": "markdown",
   "metadata": {},
   "source": [
    "将回调函数添加到[fit](https://keras.io/api/models/model_training_apis/)中，然后🤗 Transformers 会将训练好的模型推送到 Hub："
   ]
  },
  {
   "cell_type": "markdown",
   "metadata": {},
   "source": [
    "## 使用 push_to_hub 功能\n",
    "\n",
    "你可以直接在你的模型上调用`push_to_hub`来将其上传到Hub。\n",
    "\n",
    "在`push_to_hub`中指定你的模型名称："
   ]
  },
  {
   "cell_type": "code",
   "execution_count": null,
   "metadata": {},
   "outputs": [],
   "source": [
    "pt_model.push_to_hub(\"my-awesome-model\")"
   ]
  },
  {
   "cell_type": "markdown",
   "metadata": {},
   "source": [
    "这会在你的用户名下创建一个名为`my-awesome-model`的仓库。用户现在可以使用`from_pretrained`函数加载你的模型："
   ]
  },
  {
   "cell_type": "code",
   "execution_count": null,
   "metadata": {},
   "outputs": [],
   "source": [
    "from transformers import AutoModel\n",
    "\n",
    "model = AutoModel.from_pretrained(\"your_username/my-awesome-model\")"
   ]
  },
  {
   "cell_type": "markdown",
   "metadata": {},
   "source": [
    "如果你属于一个组织，并希望将你的模型推送到组织名称下，只需将其添加到`repo_id`中："
   ]
  },
  {
   "cell_type": "code",
   "execution_count": null,
   "metadata": {},
   "outputs": [],
   "source": [
    "pt_model.push_to_hub(\"my-awesome-org/my-awesome-model\")"
   ]
  },
  {
   "cell_type": "markdown",
   "metadata": {},
   "source": [
    "`push_to_hub`函数还可以用于向模型仓库添加其他文件。例如，向模型仓库中添加一个`tokenizer`："
   ]
  },
  {
   "cell_type": "code",
   "execution_count": null,
   "metadata": {},
   "outputs": [],
   "source": [
    "tokenizer.push_to_hub(\"my-awesome-model\")"
   ]
  },
  {
   "cell_type": "markdown",
   "metadata": {},
   "source": [
    "或者，你可能想要将你的微调后的PyTorch模型的TensorFlow版本添加进去："
   ]
  },
  {
   "cell_type": "code",
   "execution_count": null,
   "metadata": {},
   "outputs": [],
   "source": [
    "tf_model.push_to_hub(\"my-awesome-model\")"
   ]
  },
  {
   "cell_type": "markdown",
   "metadata": {},
   "source": [
    "现在，当你导航到你的Hugging Face个人资料时，你应该看到你新创建的模型仓库。点击文件选项卡将显示你已上传到仓库的所有文件。\n",
    "\n",
    "有关如何创建和上传文件到仓库的更多详细信息，请参考[Hub文档](https://huggingface.co/docs/huggingface_hub/v0.25.1/guides/upload)。"
   ]
  },
  {
   "cell_type": "markdown",
   "metadata": {},
   "source": [
    "## 使用Web界面上传\n",
    "\n",
    "喜欢无代码方法的用户可以通过 Hugging Face 的 Web 界面上传模型。访问`huggingface.co/new`创建一个新的仓库：\n",
    "\n",
    "![new_model_repo](../../resources/show/new_model_repo.png)\n",
    "\n",
    "从这里开始，添加一些关于你的模型的信息：\n",
    "\n",
    "1. 选择仓库的所有者。这可以是你本人或者你所属的任何组织。\n",
    "2. 为你的项目选择一个名称，该名称也将成为仓库的名称。\n",
    "3. 选择你的模型是公开还是私有。\n",
    "4. 指定你的模型的许可证使用情况。\n",
    "\n",
    "现在点击文件选项卡，然后点击添加文件按钮将一个新文件上传到你的仓库。接着拖放一个文件进行上传，并添加提交信息。\n",
    "\n",
    "![upload_file](../../resources/show/upload_file.png)"
   ]
  },
  {
   "cell_type": "markdown",
   "metadata": {},
   "source": [
    "## 添加模型名片\n",
    "为了确保用户了解你的模型的能力、限制、潜在偏差和伦理考虑，请在仓库中添加一个模型名片。模型名片在`README.md`文件中定义。你可以通过以下方式添加模型名片：\n",
    "\n",
    "- 手动创建并上传一个`README.md`文件。\n",
    "- 在你的模型仓库中点击编辑模型名片按钮。\n",
    "\n",
    "可以参考DistilBert的[模型名片](https://huggingface.co/distilbert/distilbert-base-uncased)来了解模型名片应该包含的信息类型。有关你可以在`README.md`文件中控制的更多选项的细节，例如模型的碳足迹或小部件示例，请参考[文档](https://huggingface.co/docs/hub/model-cards)。"
   ]
  }
 ],
 "metadata": {
  "language_info": {
   "name": "python"
  }
 },
 "nbformat": 4,
 "nbformat_minor": 2
}
