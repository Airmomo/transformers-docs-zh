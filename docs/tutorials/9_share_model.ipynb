{
 "cells": [
  {
   "cell_type": "markdown",
   "metadata": {},
   "source": [
    "# 分享模型\n",
    "\n",
    "在 Hugging Face，我们相信公开分享知识和资源，能实现人工智能的普及化，让每个人都能受益。我们鼓励您将您的模型与社区分享，以帮助他人节省时间和精力。\n",
    "\n",
    "要与社区共享模型，您需要在 huggingface.co 上拥有一个帐户。你还可以加入现有的组织或创建一个新的组织。\n",
    "\n",
    "在本教程中，你将学习两种在 [Model Hub](https://huggingface.co/models) 上共享训练好的或微调的模型的方法：\n",
    "\n",
    "- 通过编程将文件推送到 Hub。\n",
    "- 使用 Web 界面将文件拖放到 Hub。"
   ]
  },
  {
   "cell_type": "markdown",
   "metadata": {},
   "source": [
    "## 仓库功能"
   ]
  }
 ],
 "metadata": {
  "language_info": {
   "name": "python"
  }
 },
 "nbformat": 4,
 "nbformat_minor": 2
}
