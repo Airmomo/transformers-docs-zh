{
 "cells": [
  {
   "cell_type": "markdown",
   "id": "f8ad65d7",
   "metadata": {},
   "source": [
    "# 使用 Trainer API 进行超参数搜索\n",
    "\n",
    "🤗 Transformers 提供了一个优化的 [Trainer](/docs/transformers/v4.47.1/en/main_classes/trainer#transformers.Trainer) 类，用于训练 🤗 Transformers 模型，使得开始训练变得更加容易，而无需手动编写自己的训练循环。[Trainer](/docs/transformers/v4.47.1/en/main_classes/trainer#transformers.Trainer) 提供了超参数搜索的 API。本文档展示了如何在示例中启用它。\n",
    "\n",
    "## 超参数搜索后端\n",
    "\n",
    "[Trainer](/docs/transformers/v4.47.1/en/main_classes/trainer#transformers.Trainer) 目前支持四个超参数搜索后端：[Optuna](https://optuna.org/)、[SigOpt](https://sigopt.com/)、[Ray Tune](https://docs.ray.io/en/latest/tune/index.html) 和 [Weights & Biases (W&B)](https://wandb.ai/site/sweeps)。\n",
    "\n",
    "在使用这些超参数搜索后端之前，需要先安装它们：\n"
   ]
  },
  {
   "cell_type": "code",
   "execution_count": null,
   "id": "9fcc4c9a",
   "metadata": {
    "vscode": {
     "languageId": "shellscript"
    }
   },
   "outputs": [],
   "source": [
    "pip install optuna/sigopt/wandb/ray[tune]"
   ]
  },
  {
   "cell_type": "markdown",
   "id": "d0d0099f",
   "metadata": {},
   "source": [
    "\n",
    "## 如何在示例中启用超参数搜索\n",
    "\n",
    "定义超参数搜索空间，不同的后端需要不同的格式。\n",
    "\n",
    "### SigOpt\n",
    "\n",
    "参考 SigOpt 的 [object_parameter](https://docs.sigopt.com/ai-module-api-references/api_reference/objects/object_parameter)，如下所示：\n"
   ]
  },
  {
   "cell_type": "code",
   "execution_count": null,
   "id": "3074d0c5",
   "metadata": {},
   "outputs": [],
   "source": [
    "def sigopt_hp_space(trial):\n",
    "    return [\n",
    "        {\"bounds\": {\"min\": 1e-6, \"max\": 1e-4}, \"name\": \"learning_rate\", \"type\": \"double\"},\n",
    "        {\n",
    "            \"categorical_values\": [\"16\", \"32\", \"64\", \"128\"],\n",
    "            \"name\": \"per_device_train_batch_size\",\n",
    "            \"type\": \"categorical\",\n",
    "        },\n",
    "    ]"
   ]
  },
  {
   "cell_type": "markdown",
   "id": "dcaf9a16",
   "metadata": {},
   "source": [
    "\n",
    "### Optuna\n",
    "\n",
    "参考 Optuna 的 [object_parameter](https://optuna.readthedocs.io/en/stable/tutorial/10_key_features/002_configurations.html#sphx-glr-tutorial-10-key-features-002-configurations-py)，如下所示：\n"
   ]
  },
  {
   "cell_type": "code",
   "execution_count": null,
   "id": "e032cfeb",
   "metadata": {},
   "outputs": [],
   "source": [
    "def optuna_hp_space(trial):\n",
    "    return {\n",
    "        \"learning_rate\": trial.suggest_float(\"learning_rate\", 1e-6, 1e-4, log=True),\n",
    "        \"per_device_train_batch_size\": trial.suggest_categorical(\"per_device_train_batch_size\", [16, 32, 64, 128]),\n",
    "    }"
   ]
  },
  {
   "cell_type": "markdown",
   "id": "d335838c",
   "metadata": {},
   "source": [
    "\n",
    "Optuna 支持多目标超参数优化（HPO）。您可以在 `hyperparameter_search` 中传递 `direction` 参数，并定义自己的 `compute_objective` 函数来返回多个目标值。`hyperparameter_search` 将返回 Pareto 前沿（`List[BestRun]`），您可以参考 [test_trainer](https://github.com/huggingface/transformers/blob/main/tests/trainer/test_trainer.py) 中的测试用例 `TrainerHyperParameterMultiObjectOptunaIntegrationTest`。如下所示：\n"
   ]
  },
  {
   "cell_type": "code",
   "execution_count": null,
   "id": "d721fc18",
   "metadata": {},
   "outputs": [],
   "source": [
    "best_trials = trainer.hyperparameter_search(\n",
    "    direction=[\"minimize\", \"maximize\"],\n",
    "    backend=\"optuna\",\n",
    "    hp_space=optuna_hp_space,\n",
    "    n_trials=20,\n",
    "    compute_objective=compute_objective,\n",
    ")"
   ]
  },
  {
   "cell_type": "markdown",
   "id": "30baf1d9",
   "metadata": {},
   "source": [
    "\n",
    "### Ray Tune\n",
    "\n",
    "参考 Ray Tune 的 [object_parameter](https://docs.ray.io/en/latest/tune/api/search_space.html)，如下所示：\n"
   ]
  },
  {
   "cell_type": "code",
   "execution_count": null,
   "id": "19655986",
   "metadata": {},
   "outputs": [],
   "source": [
    "def ray_hp_space(trial):\n",
    "    return {\n",
    "        \"learning_rate\": tune.loguniform(1e-6, 1e-4),\n",
    "        \"per_device_train_batch_size\": tune.choice([16, 32, 64, 128]),\n",
    "    }"
   ]
  },
  {
   "cell_type": "markdown",
   "id": "64aa7bfe",
   "metadata": {},
   "source": [
    "\n",
    "### Weights & Biases (W&B)\n",
    "\n",
    "参考 W&B 的 [object_parameter](https://docs.wandb.ai/guides/sweeps/configuration)，如下所示：\n"
   ]
  },
  {
   "cell_type": "code",
   "execution_count": null,
   "id": "111f2660",
   "metadata": {},
   "outputs": [],
   "source": [
    "def wandb_hp_space(trial):\n",
    "    return {\n",
    "        \"method\": \"random\",\n",
    "        \"metric\": {\"name\": \"objective\", \"goal\": \"minimize\"},\n",
    "        \"parameters\": {\n",
    "            \"learning_rate\": {\"distribution\": \"uniform\", \"min\": 1e-6, \"max\": 1e-4},\n",
    "            \"per_device_train_batch_size\": {\"values\": [16, 32, 64, 128]},\n",
    "        },\n",
    "    }"
   ]
  },
  {
   "cell_type": "markdown",
   "id": "a11fb8f0",
   "metadata": {},
   "source": [
    "\n",
    "### 定义 `model_init` 函数\n",
    "\n",
    "定义一个 `model_init` 函数并将其传递给 [Trainer](/docs/transformers/v4.47.1/en/main_classes/trainer#transformers.Trainer)，例如：\n"
   ]
  },
  {
   "cell_type": "code",
   "execution_count": null,
   "id": "2623f67b",
   "metadata": {},
   "outputs": [],
   "source": [
    "def model_init(trial):\n",
    "    return AutoModelForSequenceClassification.from_pretrained(\n",
    "        model_args.model_name_or_path,\n",
    "        from_tf=bool(\".ckpt\" in model_args.model_name_or_path),\n",
    "        config=config,\n",
    "        cache_dir=model_args.cache_dir,\n",
    "        revision=model_args.model_revision,\n",
    "        token=True if model_args.use_auth_token else None,\n",
    "    )"
   ]
  },
  {
   "cell_type": "markdown",
   "id": "8977a016",
   "metadata": {},
   "source": [
    "\n",
    "### 创建 Trainer\n",
    "\n",
    "创建一个 [Trainer](/docs/transformers/v4.47.1/en/main_classes/trainer#transformers.Trainer)，包括您的 `model_init` 函数、训练参数、训练和测试数据集以及评估函数：\n"
   ]
  },
  {
   "cell_type": "code",
   "execution_count": null,
   "id": "9bbc5751",
   "metadata": {},
   "outputs": [],
   "source": [
    "trainer = Trainer(\n",
    "    model=None,\n",
    "    args=training_args,\n",
    "    train_dataset=small_train_dataset,\n",
    "    eval_dataset=small_eval_dataset,\n",
    "    compute_metrics=compute_metrics,\n",
    "    processing_class=tokenizer,\n",
    "    model_init=model_init,\n",
    "    data_collator=data_collator,\n",
    ")"
   ]
  },
  {
   "cell_type": "markdown",
   "id": "b791bb8d",
   "metadata": {},
   "source": [
    "\n",
    "### 调用超参数搜索\n",
    "\n",
    "调用超参数搜索，获取最佳试验参数。后端可以是 `\"optuna\"`、`\"sigopt\"`、`\"wandb\"` 或 `\"ray\"`。`direction` 可以是 `\"minimize\"` 或 `\"maximize\"`，表示要优化更大的目标还是更小的目标。\n",
    "\n",
    "您可以定义自己的 `compute_objective` 函数，如果不定义，将调用默认的 `compute_objective` 函数，返回评估指标（如 F1 值）的总和作为目标值。\n"
   ]
  },
  {
   "cell_type": "code",
   "execution_count": null,
   "id": "9f2ee62c",
   "metadata": {},
   "outputs": [],
   "source": [
    "best_trial = trainer.hyperparameter_search(\n",
    "    direction=\"maximize\",\n",
    "    backend=\"optuna\",\n",
    "    hp_space=optuna_hp_space,\n",
    "    n_trials=20,\n",
    "    compute_objective=compute_objective,\n",
    ")"
   ]
  },
  {
   "cell_type": "markdown",
   "id": "33748bdf",
   "metadata": {},
   "source": [
    "\n",
    "## 适用于 DDP 微调的超参数搜索\n",
    "\n",
    "目前，适用于 DDP 的超参数搜索仅支持 Optuna 和 SigOpt。只有排名为零的进程会生成搜索试验并将参数传递给其他进程。"
   ]
  }
 ],
 "metadata": {
  "language_info": {
   "name": "python"
  }
 },
 "nbformat": 4,
 "nbformat_minor": 5
}
