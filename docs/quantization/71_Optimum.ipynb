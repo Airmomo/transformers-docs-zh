{
 "cells": [
  {
   "cell_type": "markdown",
   "id": "fb641cdd",
   "metadata": {},
   "source": [
    "# Optimum\n",
    "\n",
    "[Optimum](https://huggingface.co/docs/optimum/index) 库支持针对 Intel、Furiosa、ONNX Runtime、GPTQ 以及低级别的 PyTorch 量化函数的量化。如果你使用的是特定优化的硬件，如 Intel CPU、Furiosa NPU 或模型加速器如 ONNX Runtime，建议使用 Optimum 来进行量化。"
   ]
  }
 ],
 "metadata": {},
 "nbformat": 4,
 "nbformat_minor": 5
}
